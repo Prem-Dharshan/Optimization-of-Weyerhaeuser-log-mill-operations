{
 "cells": [
  {
   "cell_type": "markdown",
   "metadata": {},
   "source": [
    "Welcome to interactive notebook"
   ]
  },
  {
   "cell_type": "code",
   "execution_count": null,
   "metadata": {},
   "outputs": [],
   "source": [
    "from pprint import pprint\n",
    "from typing import List, Tuple, Dict\n",
    "from prettytable import PrettyTable\n",
    "from prettytable.colortable import ColorTable, Themes\n",
    "import pandas as pd"
   ]
  },
  {
   "cell_type": "code",
   "execution_count": null,
   "metadata": {},
   "outputs": [],
   "source": [
    "def calculateRevenue(data1, M: int, I: int, N: int, cost: float):\n",
    "\n",
    "    calculations: List[PrettyTable] = []\n",
    "    for table in range(M):\n",
    "        calculations.append(ColorTable(theme=Themes.OCEAN))\n",
    "\n",
    "    for i in range(M):\n",
    "        calculations[i].field_names = [\"j\"] + [j for j in range(1, N + 1)]\n",
    "\n",
    "    f: List[float] = [0] * (I + 1)\n",
    "    f_array = [0] * (I + 1)\n",
    "    total: int\n",
    "    max_revenue: float = 0.0\n",
    "    c: float\n",
    "    js, ms = 0, 0\n",
    "\n",
    "    arr = []\n",
    "    for m in range(M):\n",
    "        r_r = []\n",
    "        for i in range(I):\n",
    "            j_r = []\n",
    "            for j in range(N):\n",
    "                j_r.append(0)\n",
    "            r_r.append(j_r)\n",
    "        arr.append(r_r)\n",
    "\n",
    "    for i in range(1, I + 1):\n",
    "\n",
    "        for j in range(1, N + 1):\n",
    "\n",
    "            for m in range(1, M + 1):\n",
    "\n",
    "                if j < i:\n",
    "                    c = cost\n",
    "                else:\n",
    "                    c = 0\n",
    "                total = data1[m][i][j] - c + f[i - j]\n",
    "                if total > max_revenue:\n",
    "                    max_revenue = total\n",
    "                    js = j\n",
    "                    ms = m\n",
    "\n",
    "                arr[m - 1][i - 1][j - 1] = round(total, 2)\n",
    "\n",
    "            f[i] = round(max_revenue, 2)\n",
    "            f_array[i] = (js, ms)\n",
    "\n",
    "    for table in range(M):\n",
    "        for row in range(I):\n",
    "            calculations[table].add_row(\n",
    "                [row + 1] + arr[table][row])\n",
    "\n",
    "    print(\"\\n\")\n",
    "    for i in range(M):\n",
    "        print(f\"CALCULATIONS FOR MILL {i+1}\\n\")\n",
    "        print(calculations[i])\n",
    "        print(\"\\n\\n\")\n",
    "\n",
    "    res: PrettyTable = ColorTable(theme=Themes.OCEAN)\n",
    "    res.add_column(\"f(i)\", f[1:])\n",
    "    res.add_column(\"(j*, m*)\", f_array[1:])\n",
    "\n",
    "    print(\"\\n\\nREVENUE & CROSS CUTTING\\n\")\n",
    "    print(res, \"\\n\")"
   ]
  },
  {
   "cell_type": "code",
   "execution_count": null,
   "metadata": {},
   "outputs": [],
   "source": [
    "def read_excel_data(filename):\n",
    "    data = {}\n",
    "    xls = pd.ExcelFile(filename)\n",
    "    for sheet_name in xls.sheet_names:\n",
    "        data[int(sheet_name)] = pd.read_excel(\n",
    "            filename, sheet_name=sheet_name, header=None).values.tolist()\n",
    "    return data"
   ]
  },
  {
   "cell_type": "code",
   "execution_count": null,
   "metadata": {},
   "outputs": [],
   "source": [
    "def main():\n",
    "\n",
    "    filename = input(\"Enter the Excel file name: \")\n",
    "    data = read_excel_data(filename)\n",
    "\n",
    "    # pprint(data)\n",
    "\n",
    "    M = int(input(\"Enter the value of M: \"))\n",
    "    I = int(input(\"Enter the value of I: \"))\n",
    "    N = int(input(\"Enter the value of N: \"))\n",
    "    COST = float(input(\"Enter the cost: \"))\n",
    "\n",
    "    calculateRevenue(data1=data, M=M, I=I, N=N, cost=COST)"
   ]
  },
  {
   "cell_type": "code",
   "execution_count": null,
   "metadata": {},
   "outputs": [],
   "source": [
    "if \"__main__\" == __name__:\n",
    "    main()"
   ]
  }
 ],
 "metadata": {
  "kernelspec": {
   "display_name": "venv",
   "language": "python",
   "name": "python3"
  },
  "language_info": {
   "codemirror_mode": {
    "name": "ipython",
    "version": 3
   },
   "file_extension": ".py",
   "mimetype": "text/x-python",
   "name": "python",
   "nbconvert_exporter": "python",
   "pygments_lexer": "ipython3",
   "version": "3.12.2"
  }
 },
 "nbformat": 4,
 "nbformat_minor": 2
}
